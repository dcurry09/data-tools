{
 "cells": [
  {
   "cell_type": "markdown",
   "id": "4b4f1ee8-d35f-4bda-a933-58d4c3e60403",
   "metadata": {},
   "source": [
    "# Demonstration of Data Tools"
   ]
  },
  {
   "cell_type": "code",
   "execution_count": 1,
   "id": "27674b34-20a7-4600-885c-d6301ccb0d69",
   "metadata": {},
   "outputs": [
    {
     "name": "stdout",
     "output_type": "stream",
     "text": [
      "Python version: 3.8.13 (default, Jan 15 2023, 15:46:20) \n",
      "[Clang 14.0.0 (clang-1400.0.29.202)]\n",
      "Working directory: /Users/davidcurry/Documents/projects/data-tools/notebooks\n",
      "Virtual environment: False\n",
      "--------------------------------------------------\n"
     ]
    }
   ],
   "source": [
    "import sys\n",
    "import os\n",
    "print(f\"Python version: {sys.version}\")\n",
    "print(f\"Working directory: {os.getcwd()}\")\n",
    "print(f\"Virtual environment: {'venv' in sys.executable}\")\n",
    "print(\"-\" * 50)"
   ]
  },
  {
   "cell_type": "code",
   "execution_count": 8,
   "id": "d0c0a0f1-417e-40bf-ba9e-dd337e3513da",
   "metadata": {},
   "outputs": [],
   "source": [
    "!pip install matplotlib scikit-learn tabulate --quiet"
   ]
  },
  {
   "cell_type": "code",
   "execution_count": 12,
   "id": "d4c538cf-ad23-4d6b-9961-329747f473c8",
   "metadata": {},
   "outputs": [
    {
     "ename": "ImportError",
     "evalue": "attempted relative import with no known parent package",
     "output_type": "error",
     "traceback": [
      "\u001b[0;31m---------------------------------------------------------------------------\u001b[0m",
      "\u001b[0;31mImportError\u001b[0m                               Traceback (most recent call last)",
      "Cell \u001b[0;32mIn[12], line 7\u001b[0m\n\u001b[1;32m      4\u001b[0m \u001b[38;5;28;01mimport\u001b[39;00m \u001b[38;5;21;01msklearn\u001b[39;00m\n\u001b[1;32m      5\u001b[0m \u001b[38;5;28;01mimport\u001b[39;00m \u001b[38;5;21;01mtabulate\u001b[39;00m\n\u001b[0;32m----> 7\u001b[0m \u001b[38;5;28;01mfrom\u001b[39;00m \u001b[38;5;21;01m.\u001b[39;00m\u001b[38;5;21;01m.\u001b[39;00m\u001b[38;5;21;01msrc\u001b[39;00m\u001b[38;5;21;01m.\u001b[39;00m\u001b[38;5;21;01mdata_tools\u001b[39;00m \u001b[38;5;28;01mimport\u001b[39;00m \u001b[38;5;241m*\u001b[39m\n",
      "\u001b[0;31mImportError\u001b[0m: attempted relative import with no known parent package"
     ]
    }
   ],
   "source": [
    "import pandas as pd\n",
    "import numpy as np\n",
    "import matplotlib\n",
    "import sklearn\n",
    "import tabulate\n",
    "\n",
    "\n",
    "from src.data_tools import *"
   ]
  },
  {
   "cell_type": "code",
   "execution_count": null,
   "id": "661848a2-7ba1-41ef-bcc3-46aba3220bc1",
   "metadata": {},
   "outputs": [],
   "source": []
  }
 ],
 "metadata": {
  "kernelspec": {
   "display_name": "Python 3 (ipykernel)",
   "language": "python",
   "name": "python3"
  },
  "language_info": {
   "codemirror_mode": {
    "name": "ipython",
    "version": 3
   },
   "file_extension": ".py",
   "mimetype": "text/x-python",
   "name": "python",
   "nbconvert_exporter": "python",
   "pygments_lexer": "ipython3",
   "version": "3.8.13"
  }
 },
 "nbformat": 4,
 "nbformat_minor": 5
}
