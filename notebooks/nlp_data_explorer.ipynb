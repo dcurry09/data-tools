{
 "cells": [
  {
   "cell_type": "markdown",
   "id": "aaeedbfa-b162-4213-bbd4-8f62c3d36786",
   "metadata": {},
   "source": [
    "# NLP Exploration Tools"
   ]
  },
  {
   "cell_type": "code",
   "execution_count": 1,
   "id": "7c684bb2-de18-4ef1-a46a-0a7127cbadd7",
   "metadata": {
    "execution": {
     "iopub.execute_input": "2025-05-20T18:37:42.905685Z",
     "iopub.status.busy": "2025-05-20T18:37:42.905307Z",
     "iopub.status.idle": "2025-05-20T18:37:42.914140Z",
     "shell.execute_reply": "2025-05-20T18:37:42.913086Z",
     "shell.execute_reply.started": "2025-05-20T18:37:42.905655Z"
    }
   },
   "outputs": [
    {
     "name": "stdout",
     "output_type": "stream",
     "text": [
      "Python version: 3.12.0 (main, May 18 2025, 17:01:09) [Clang 16.0.0 (clang-1600.0.26.6)]\n",
      "Working directory: /Users/davidcurrymaster/Documents/projects/data-tools/notebooks\n",
      "--------------------------------------------------\n"
     ]
    }
   ],
   "source": [
    "import sys\n",
    "import os\n",
    "print(f\"Python version: {sys.version}\")\n",
    "print(f\"Working directory: {os.getcwd()}\")\n",
    "print(\"-\" * 50)"
   ]
  },
  {
   "cell_type": "code",
   "execution_count": 3,
   "id": "10bd94f9-dd9a-47ca-a329-338dc382d870",
   "metadata": {
    "execution": {
     "iopub.execute_input": "2025-05-20T18:38:12.359633Z",
     "iopub.status.busy": "2025-05-20T18:38:12.358240Z",
     "iopub.status.idle": "2025-05-20T18:38:12.389674Z",
     "shell.execute_reply": "2025-05-20T18:38:12.389282Z",
     "shell.execute_reply.started": "2025-05-20T18:38:12.359577Z"
    }
   },
   "outputs": [
    {
     "name": "stdout",
     "output_type": "stream",
     "text": [
      "The autoreload extension is already loaded. To reload it, use:\n",
      "  %reload_ext autoreload\n"
     ]
    }
   ],
   "source": [
    "import pandas as pd\n",
    "import numpy as np\n",
    "\n",
    "sys.path.append(os.path.abspath('..'))\n",
    "import src.data_tools as data_tools\n",
    "import src.nlp_tools as nlp_tools\n",
    "\n",
    "\n",
    "%load_ext autoreload\n",
    "%autoreload 2"
   ]
  },
  {
   "cell_type": "markdown",
   "id": "5a6f7227-3075-445a-9faa-9160199866d5",
   "metadata": {},
   "source": [
    "# Configuration"
   ]
  },
  {
   "cell_type": "code",
   "execution_count": null,
   "id": "7c0dec7a-80b5-473c-a890-d01fd0579c83",
   "metadata": {},
   "outputs": [],
   "source": []
  },
  {
   "cell_type": "markdown",
   "id": "7934c8fe-f9d7-4e1a-b5d1-4998a529765a",
   "metadata": {},
   "source": [
    "# Load Data"
   ]
  },
  {
   "cell_type": "code",
   "execution_count": null,
   "id": "e1897bb3-ae33-4498-81b9-5c7da541053d",
   "metadata": {},
   "outputs": [],
   "source": []
  }
 ],
 "metadata": {
  "kernelspec": {
   "display_name": "Python 3 (ipykernel)",
   "language": "python",
   "name": "python3"
  },
  "language_info": {
   "codemirror_mode": {
    "name": "ipython",
    "version": 3
   },
   "file_extension": ".py",
   "mimetype": "text/x-python",
   "name": "python",
   "nbconvert_exporter": "python",
   "pygments_lexer": "ipython3",
   "version": "3.12.0"
  }
 },
 "nbformat": 4,
 "nbformat_minor": 5
}
