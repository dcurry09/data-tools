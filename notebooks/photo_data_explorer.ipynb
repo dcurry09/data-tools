{
 "cells": [
  {
   "cell_type": "markdown",
   "id": "7f8498cc-512c-43fa-acbc-c4f9994757e5",
   "metadata": {},
   "source": [
    "# Demonstration of Photo Tools"
   ]
  },
  {
   "cell_type": "code",
   "execution_count": 6,
   "id": "bf8cdd4e-1881-4116-9071-b990dc9a7ea6",
   "metadata": {},
   "outputs": [
    {
     "name": "stdout",
     "output_type": "stream",
     "text": [
      "Python version: 3.8.13 (default, Jan 15 2023, 15:46:20) \n",
      "[Clang 14.0.0 (clang-1400.0.29.202)]\n",
      "Working directory: /Users/davidcurry/Documents/projects/data-tools/notebooks\n",
      "--------------------------------------------------\n"
     ]
    }
   ],
   "source": [
    "import sys\n",
    "import os\n",
    "print(f\"Python version: {sys.version}\")\n",
    "print(f\"Working directory: {os.getcwd()}\")\n",
    "print(\"-\" * 50)"
   ]
  },
  {
   "cell_type": "code",
   "execution_count": 12,
   "id": "5f2a1f41-6714-4d7b-ba14-f81397ba82b6",
   "metadata": {},
   "outputs": [],
   "source": [
    "!pip install opencv-python ipywidgets --quiet"
   ]
  },
  {
   "cell_type": "code",
   "execution_count": 13,
   "id": "02366fb9-2a65-41d6-9471-77cf6789270a",
   "metadata": {},
   "outputs": [
    {
     "name": "stdout",
     "output_type": "stream",
     "text": [
      "The autoreload extension is already loaded. To reload it, use:\n",
      "  %reload_ext autoreload\n"
     ]
    }
   ],
   "source": [
    "import pandas as pd\n",
    "import numpy as np\n",
    "\n",
    "sys.path.append(os.path.abspath('..'))\n",
    "import src.data_tools as data_tools\n",
    "import src.photo_tools as photo_tools\n",
    "\n",
    "%load_ext autoreload\n",
    "%autoreload 2"
   ]
  },
  {
   "cell_type": "markdown",
   "id": "615e71d9-1290-4b05-85da-81340c11983f",
   "metadata": {},
   "source": [
    "# Load Data"
   ]
  },
  {
   "cell_type": "code",
   "execution_count": 15,
   "id": "960bbf67-6cd9-4a22-868e-e02ea3f128a9",
   "metadata": {},
   "outputs": [
    {
     "name": "stdout",
     "output_type": "stream",
     "text": [
      "Loaded tabular data: (500, 20)\n",
      "Generated 50 test images\n",
      "Merged data shape: (50, 23)\n"
     ]
    }
   ],
   "source": [
    "# Create test images directory\n",
    "import os\n",
    "os.makedirs('../data/test_images', exist_ok=True)\n",
    "\n",
    "# Load tabular data first\n",
    "df = pd.read_csv('test_data.csv')\n",
    "print(f\"Loaded tabular data: {df.shape}\")\n",
    "\n",
    "# Generate test images correlated with target\n",
    "image_df = photo_tools.generate_test_images('../data/test_images', n_images=50, metadata_df=df.head(50))\n",
    "print(f\"Generated {len(image_df)} test images\")\n",
    "\n",
    "# Merge with original data\n",
    "df_with_images = df.head(50).merge(image_df[['image_id', 'path', 'pattern']], \n",
    "                                   left_index=True, right_on='image_id')\n",
    "print(f\"Merged data shape: {df_with_images.shape}\")"
   ]
  },
  {
   "cell_type": "code",
   "execution_count": 16,
   "id": "f3d4af0c-ebb2-4346-9c2b-d1594ac6c867",
   "metadata": {},
   "outputs": [
    {
     "data": {
      "text/html": [
       "<div>\n",
       "<style scoped>\n",
       "    .dataframe tbody tr th:only-of-type {\n",
       "        vertical-align: middle;\n",
       "    }\n",
       "\n",
       "    .dataframe tbody tr th {\n",
       "        vertical-align: top;\n",
       "    }\n",
       "\n",
       "    .dataframe thead th {\n",
       "        text-align: right;\n",
       "    }\n",
       "</style>\n",
       "<table border=\"1\" class=\"dataframe\">\n",
       "  <thead>\n",
       "    <tr style=\"text-align: right;\">\n",
       "      <th></th>\n",
       "      <th>age</th>\n",
       "      <th>annual_income</th>\n",
       "      <th>credit_score</th>\n",
       "      <th>transaction_amount</th>\n",
       "      <th>product_views</th>\n",
       "      <th>gender</th>\n",
       "      <th>state</th>\n",
       "      <th>customer_id</th>\n",
       "      <th>membership_level</th>\n",
       "      <th>account_created</th>\n",
       "      <th>...</th>\n",
       "      <th>zip_code</th>\n",
       "      <th>product_type</th>\n",
       "      <th>feature_a</th>\n",
       "      <th>feature_b</th>\n",
       "      <th>target</th>\n",
       "      <th>empty_column</th>\n",
       "      <th>constant_column</th>\n",
       "      <th>image_id</th>\n",
       "      <th>path</th>\n",
       "      <th>pattern</th>\n",
       "    </tr>\n",
       "  </thead>\n",
       "  <tbody>\n",
       "    <tr>\n",
       "      <th>0</th>\n",
       "      <td>28</td>\n",
       "      <td>83727.997743</td>\n",
       "      <td>49.444448</td>\n",
       "      <td>587.185346</td>\n",
       "      <td>0.00000</td>\n",
       "      <td>M</td>\n",
       "      <td>NY</td>\n",
       "      <td>CUST000383</td>\n",
       "      <td>NaN</td>\n",
       "      <td>2024-05-04</td>\n",
       "      <td>...</td>\n",
       "      <td>45814</td>\n",
       "      <td>Product@E</td>\n",
       "      <td>74.322722</td>\n",
       "      <td>62.352008</td>\n",
       "      <td>0</td>\n",
       "      <td>NaN</td>\n",
       "      <td>constant_value</td>\n",
       "      <td>0</td>\n",
       "      <td>../data/test_images/test_image_0000.jpg</td>\n",
       "      <td>noise</td>\n",
       "    </tr>\n",
       "    <tr>\n",
       "      <th>1</th>\n",
       "      <td>37</td>\n",
       "      <td>22890.711694</td>\n",
       "      <td>41.253838</td>\n",
       "      <td>197.826427</td>\n",
       "      <td>0.00000</td>\n",
       "      <td>M</td>\n",
       "      <td>IL</td>\n",
       "      <td>CUST000039</td>\n",
       "      <td>Silver</td>\n",
       "      <td>2024-07-24</td>\n",
       "      <td>...</td>\n",
       "      <td>34561</td>\n",
       "      <td>Product C</td>\n",
       "      <td>90.736181</td>\n",
       "      <td>68.525237</td>\n",
       "      <td>0</td>\n",
       "      <td>NaN</td>\n",
       "      <td>constant_value</td>\n",
       "      <td>1</td>\n",
       "      <td>../data/test_images/test_image_0001.jpg</td>\n",
       "      <td>noise</td>\n",
       "    </tr>\n",
       "    <tr>\n",
       "      <th>2</th>\n",
       "      <td>45</td>\n",
       "      <td>37105.061624</td>\n",
       "      <td>41.113036</td>\n",
       "      <td>604.414719</td>\n",
       "      <td>0.00000</td>\n",
       "      <td>Other</td>\n",
       "      <td>NC</td>\n",
       "      <td>CUST000489</td>\n",
       "      <td>Gold</td>\n",
       "      <td>2022-09-05</td>\n",
       "      <td>...</td>\n",
       "      <td>82980</td>\n",
       "      <td>Product/D</td>\n",
       "      <td>123.352362</td>\n",
       "      <td>117.991919</td>\n",
       "      <td>0</td>\n",
       "      <td>NaN</td>\n",
       "      <td>constant_value</td>\n",
       "      <td>2</td>\n",
       "      <td>../data/test_images/test_image_0002.jpg</td>\n",
       "      <td>noise</td>\n",
       "    </tr>\n",
       "    <tr>\n",
       "      <th>3</th>\n",
       "      <td>33</td>\n",
       "      <td>55483.632278</td>\n",
       "      <td>46.269633</td>\n",
       "      <td>21.721193</td>\n",
       "      <td>41.48655</td>\n",
       "      <td>F</td>\n",
       "      <td>IL</td>\n",
       "      <td>CUST000042</td>\n",
       "      <td>Gold</td>\n",
       "      <td>2023-12-12</td>\n",
       "      <td>...</td>\n",
       "      <td>65063</td>\n",
       "      <td>Product C</td>\n",
       "      <td>112.858167</td>\n",
       "      <td>95.357249</td>\n",
       "      <td>0</td>\n",
       "      <td>NaN</td>\n",
       "      <td>constant_value</td>\n",
       "      <td>3</td>\n",
       "      <td>../data/test_images/test_image_0003.jpg</td>\n",
       "      <td>noise</td>\n",
       "    </tr>\n",
       "    <tr>\n",
       "      <th>4</th>\n",
       "      <td>57</td>\n",
       "      <td>27243.393419</td>\n",
       "      <td>48.753416</td>\n",
       "      <td>43.158406</td>\n",
       "      <td>0.00000</td>\n",
       "      <td>M</td>\n",
       "      <td>MI</td>\n",
       "      <td>CUST000387</td>\n",
       "      <td>Gold</td>\n",
       "      <td>2021-08-16</td>\n",
       "      <td>...</td>\n",
       "      <td>42844</td>\n",
       "      <td>Product@E</td>\n",
       "      <td>96.576092</td>\n",
       "      <td>46.700752</td>\n",
       "      <td>0</td>\n",
       "      <td>NaN</td>\n",
       "      <td>constant_value</td>\n",
       "      <td>4</td>\n",
       "      <td>../data/test_images/test_image_0004.jpg</td>\n",
       "      <td>noise</td>\n",
       "    </tr>\n",
       "  </tbody>\n",
       "</table>\n",
       "<p>5 rows × 23 columns</p>\n",
       "</div>"
      ],
      "text/plain": [
       "   age  annual_income  credit_score  transaction_amount  product_views gender  \\\n",
       "0   28   83727.997743     49.444448          587.185346        0.00000      M   \n",
       "1   37   22890.711694     41.253838          197.826427        0.00000      M   \n",
       "2   45   37105.061624     41.113036          604.414719        0.00000  Other   \n",
       "3   33   55483.632278     46.269633           21.721193       41.48655      F   \n",
       "4   57   27243.393419     48.753416           43.158406        0.00000      M   \n",
       "\n",
       "  state customer_id membership_level account_created  ...  zip_code  \\\n",
       "0    NY  CUST000383              NaN      2024-05-04  ...     45814   \n",
       "1    IL  CUST000039           Silver      2024-07-24  ...     34561   \n",
       "2    NC  CUST000489             Gold      2022-09-05  ...     82980   \n",
       "3    IL  CUST000042             Gold      2023-12-12  ...     65063   \n",
       "4    MI  CUST000387             Gold      2021-08-16  ...     42844   \n",
       "\n",
       "   product_type   feature_a   feature_b target  empty_column  constant_column  \\\n",
       "0     Product@E   74.322722   62.352008      0           NaN   constant_value   \n",
       "1     Product C   90.736181   68.525237      0           NaN   constant_value   \n",
       "2     Product/D  123.352362  117.991919      0           NaN   constant_value   \n",
       "3     Product C  112.858167   95.357249      0           NaN   constant_value   \n",
       "4     Product@E   96.576092   46.700752      0           NaN   constant_value   \n",
       "\n",
       "   image_id                                     path pattern  \n",
       "0         0  ../data/test_images/test_image_0000.jpg   noise  \n",
       "1         1  ../data/test_images/test_image_0001.jpg   noise  \n",
       "2         2  ../data/test_images/test_image_0002.jpg   noise  \n",
       "3         3  ../data/test_images/test_image_0003.jpg   noise  \n",
       "4         4  ../data/test_images/test_image_0004.jpg   noise  \n",
       "\n",
       "[5 rows x 23 columns]"
      ]
     },
     "execution_count": 16,
     "metadata": {},
     "output_type": "execute_result"
    }
   ],
   "source": [
    "df_with_images.head()"
   ]
  },
  {
   "cell_type": "markdown",
   "id": "3ad0a00f-92a9-4a48-94dc-158ee8d5697c",
   "metadata": {},
   "source": [
    "# Quick Photo Overview"
   ]
  },
  {
   "cell_type": "code",
   "execution_count": 17,
   "id": "5c30dcf3-8b26-4e9c-bd8d-4880efb9d62e",
   "metadata": {},
   "outputs": [
    {
     "name": "stdout",
     "output_type": "stream",
     "text": [
      "==================================================\n",
      "IMAGE DATASET SUMMARY\n",
      "==================================================\n",
      "Total images: 50\n",
      "Image formats: {'JPEG': 50}\n",
      "Color modes: {'RGB': 50}\n",
      "\n",
      "Size statistics:\n",
      "  Width: 224 - 512 (avg: 295)\n",
      "  Height: 224 - 512 (avg: 309)\n",
      "  File size: 5.9 - 209.4 KB\n",
      "  Aspect ratios: 0.44 - 2.29\n"
     ]
    }
   ],
   "source": [
    "image_info = photo_tools.load_image_info('../data/test_images')\n",
    "photo_tools.quick_image_summary(image_info)"
   ]
  },
  {
   "cell_type": "code",
   "execution_count": null,
   "id": "6fa4c173-48ef-4ae7-908a-2cc4829160ad",
   "metadata": {},
   "outputs": [],
   "source": []
  }
 ],
 "metadata": {
  "kernelspec": {
   "display_name": "Python 3 (ipykernel)",
   "language": "python",
   "name": "python3"
  },
  "language_info": {
   "codemirror_mode": {
    "name": "ipython",
    "version": 3
   },
   "file_extension": ".py",
   "mimetype": "text/x-python",
   "name": "python",
   "nbconvert_exporter": "python",
   "pygments_lexer": "ipython3",
   "version": "3.8.13"
  }
 },
 "nbformat": 4,
 "nbformat_minor": 5
}
